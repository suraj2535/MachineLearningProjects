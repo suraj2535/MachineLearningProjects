{
 "cells": [
  {
   "cell_type": "markdown",
   "id": "c48c27f0",
   "metadata": {
    "papermill": {
     "duration": 0.014899,
     "end_time": "2023-02-18T06:11:37.377503",
     "exception": false,
     "start_time": "2023-02-18T06:11:37.362604",
     "status": "completed"
    },
    "tags": []
   },
   "source": [
    "## Importing Libraries"
   ]
  },
  {
   "cell_type": "code",
   "execution_count": 1,
   "id": "3124f389",
   "metadata": {
    "execution": {
     "iopub.execute_input": "2023-02-18T06:11:37.412583Z",
     "iopub.status.busy": "2023-02-18T06:11:37.412063Z",
     "iopub.status.idle": "2023-02-18T06:11:37.428367Z",
     "shell.execute_reply": "2023-02-18T06:11:37.427559Z"
    },
    "papermill": {
     "duration": 0.037769,
     "end_time": "2023-02-18T06:11:37.433244",
     "exception": false,
     "start_time": "2023-02-18T06:11:37.395475",
     "status": "completed"
    },
    "tags": []
   },
   "outputs": [],
   "source": [
    "import pandas as pd\n",
    "import numpy as np"
   ]
  },
  {
   "cell_type": "markdown",
   "id": "00e698ee",
   "metadata": {
    "papermill": {
     "duration": 0.014165,
     "end_time": "2023-02-18T06:11:37.461887",
     "exception": false,
     "start_time": "2023-02-18T06:11:37.447722",
     "status": "completed"
    },
    "tags": []
   },
   "source": [
    "## Importing Datasets"
   ]
  },
  {
   "cell_type": "code",
   "execution_count": 2,
   "id": "b8fee7de",
   "metadata": {
    "execution": {
     "iopub.execute_input": "2023-02-18T06:11:37.492844Z",
     "iopub.status.busy": "2023-02-18T06:11:37.492491Z",
     "iopub.status.idle": "2023-02-18T06:11:39.206864Z",
     "shell.execute_reply": "2023-02-18T06:11:39.205810Z"
    },
    "papermill": {
     "duration": 1.732814,
     "end_time": "2023-02-18T06:11:39.209382",
     "exception": false,
     "start_time": "2023-02-18T06:11:37.476568",
     "status": "completed"
    },
    "tags": []
   },
   "outputs": [],
   "source": [
    "application_record = pd.read_csv('application_record.csv')\n",
    "credit_record = pd.read_csv('credit_record.csv')"
   ]
  },
  {
   "cell_type": "code",
   "execution_count": 3,
   "id": "9172ef69",
   "metadata": {
    "execution": {
     "iopub.execute_input": "2023-02-18T06:11:39.232680Z",
     "iopub.status.busy": "2023-02-18T06:11:39.231153Z",
     "iopub.status.idle": "2023-02-18T06:11:39.266834Z",
     "shell.execute_reply": "2023-02-18T06:11:39.265708Z"
    },
    "papermill": {
     "duration": 0.050061,
     "end_time": "2023-02-18T06:11:39.269730",
     "exception": false,
     "start_time": "2023-02-18T06:11:39.219669",
     "status": "completed"
    },
    "tags": []
   },
   "outputs": [
    {
     "data": {
      "text/html": [
       "<div>\n",
       "<style scoped>\n",
       "    .dataframe tbody tr th:only-of-type {\n",
       "        vertical-align: middle;\n",
       "    }\n",
       "\n",
       "    .dataframe tbody tr th {\n",
       "        vertical-align: top;\n",
       "    }\n",
       "\n",
       "    .dataframe thead th {\n",
       "        text-align: right;\n",
       "    }\n",
       "</style>\n",
       "<table border=\"1\" class=\"dataframe\">\n",
       "  <thead>\n",
       "    <tr style=\"text-align: right;\">\n",
       "      <th></th>\n",
       "      <th>ID</th>\n",
       "      <th>CODE_GENDER</th>\n",
       "      <th>FLAG_OWN_CAR</th>\n",
       "      <th>FLAG_OWN_REALTY</th>\n",
       "      <th>CNT_CHILDREN</th>\n",
       "      <th>AMT_INCOME_TOTAL</th>\n",
       "      <th>NAME_INCOME_TYPE</th>\n",
       "      <th>NAME_EDUCATION_TYPE</th>\n",
       "      <th>NAME_FAMILY_STATUS</th>\n",
       "      <th>NAME_HOUSING_TYPE</th>\n",
       "      <th>DAYS_BIRTH</th>\n",
       "      <th>DAYS_EMPLOYED</th>\n",
       "      <th>FLAG_MOBIL</th>\n",
       "      <th>FLAG_WORK_PHONE</th>\n",
       "      <th>FLAG_PHONE</th>\n",
       "      <th>FLAG_EMAIL</th>\n",
       "      <th>OCCUPATION_TYPE</th>\n",
       "      <th>CNT_FAM_MEMBERS</th>\n",
       "    </tr>\n",
       "  </thead>\n",
       "  <tbody>\n",
       "    <tr>\n",
       "      <th>0</th>\n",
       "      <td>5008804</td>\n",
       "      <td>M</td>\n",
       "      <td>Y</td>\n",
       "      <td>Y</td>\n",
       "      <td>0</td>\n",
       "      <td>427500.0</td>\n",
       "      <td>Working</td>\n",
       "      <td>Higher education</td>\n",
       "      <td>Civil marriage</td>\n",
       "      <td>Rented apartment</td>\n",
       "      <td>-12005</td>\n",
       "      <td>-4542</td>\n",
       "      <td>1</td>\n",
       "      <td>1</td>\n",
       "      <td>0</td>\n",
       "      <td>0</td>\n",
       "      <td>NaN</td>\n",
       "      <td>2.0</td>\n",
       "    </tr>\n",
       "    <tr>\n",
       "      <th>1</th>\n",
       "      <td>5008805</td>\n",
       "      <td>M</td>\n",
       "      <td>Y</td>\n",
       "      <td>Y</td>\n",
       "      <td>0</td>\n",
       "      <td>427500.0</td>\n",
       "      <td>Working</td>\n",
       "      <td>Higher education</td>\n",
       "      <td>Civil marriage</td>\n",
       "      <td>Rented apartment</td>\n",
       "      <td>-12005</td>\n",
       "      <td>-4542</td>\n",
       "      <td>1</td>\n",
       "      <td>1</td>\n",
       "      <td>0</td>\n",
       "      <td>0</td>\n",
       "      <td>NaN</td>\n",
       "      <td>2.0</td>\n",
       "    </tr>\n",
       "    <tr>\n",
       "      <th>2</th>\n",
       "      <td>5008806</td>\n",
       "      <td>M</td>\n",
       "      <td>Y</td>\n",
       "      <td>Y</td>\n",
       "      <td>0</td>\n",
       "      <td>112500.0</td>\n",
       "      <td>Working</td>\n",
       "      <td>Secondary / secondary special</td>\n",
       "      <td>Married</td>\n",
       "      <td>House / apartment</td>\n",
       "      <td>-21474</td>\n",
       "      <td>-1134</td>\n",
       "      <td>1</td>\n",
       "      <td>0</td>\n",
       "      <td>0</td>\n",
       "      <td>0</td>\n",
       "      <td>Security staff</td>\n",
       "      <td>2.0</td>\n",
       "    </tr>\n",
       "    <tr>\n",
       "      <th>3</th>\n",
       "      <td>5008808</td>\n",
       "      <td>F</td>\n",
       "      <td>N</td>\n",
       "      <td>Y</td>\n",
       "      <td>0</td>\n",
       "      <td>270000.0</td>\n",
       "      <td>Commercial associate</td>\n",
       "      <td>Secondary / secondary special</td>\n",
       "      <td>Single / not married</td>\n",
       "      <td>House / apartment</td>\n",
       "      <td>-19110</td>\n",
       "      <td>-3051</td>\n",
       "      <td>1</td>\n",
       "      <td>0</td>\n",
       "      <td>1</td>\n",
       "      <td>1</td>\n",
       "      <td>Sales staff</td>\n",
       "      <td>1.0</td>\n",
       "    </tr>\n",
       "    <tr>\n",
       "      <th>4</th>\n",
       "      <td>5008809</td>\n",
       "      <td>F</td>\n",
       "      <td>N</td>\n",
       "      <td>Y</td>\n",
       "      <td>0</td>\n",
       "      <td>270000.0</td>\n",
       "      <td>Commercial associate</td>\n",
       "      <td>Secondary / secondary special</td>\n",
       "      <td>Single / not married</td>\n",
       "      <td>House / apartment</td>\n",
       "      <td>-19110</td>\n",
       "      <td>-3051</td>\n",
       "      <td>1</td>\n",
       "      <td>0</td>\n",
       "      <td>1</td>\n",
       "      <td>1</td>\n",
       "      <td>Sales staff</td>\n",
       "      <td>1.0</td>\n",
       "    </tr>\n",
       "    <tr>\n",
       "      <th>...</th>\n",
       "      <td>...</td>\n",
       "      <td>...</td>\n",
       "      <td>...</td>\n",
       "      <td>...</td>\n",
       "      <td>...</td>\n",
       "      <td>...</td>\n",
       "      <td>...</td>\n",
       "      <td>...</td>\n",
       "      <td>...</td>\n",
       "      <td>...</td>\n",
       "      <td>...</td>\n",
       "      <td>...</td>\n",
       "      <td>...</td>\n",
       "      <td>...</td>\n",
       "      <td>...</td>\n",
       "      <td>...</td>\n",
       "      <td>...</td>\n",
       "      <td>...</td>\n",
       "    </tr>\n",
       "    <tr>\n",
       "      <th>438552</th>\n",
       "      <td>6840104</td>\n",
       "      <td>M</td>\n",
       "      <td>N</td>\n",
       "      <td>Y</td>\n",
       "      <td>0</td>\n",
       "      <td>135000.0</td>\n",
       "      <td>Pensioner</td>\n",
       "      <td>Secondary / secondary special</td>\n",
       "      <td>Separated</td>\n",
       "      <td>House / apartment</td>\n",
       "      <td>-22717</td>\n",
       "      <td>365243</td>\n",
       "      <td>1</td>\n",
       "      <td>0</td>\n",
       "      <td>0</td>\n",
       "      <td>0</td>\n",
       "      <td>NaN</td>\n",
       "      <td>1.0</td>\n",
       "    </tr>\n",
       "    <tr>\n",
       "      <th>438553</th>\n",
       "      <td>6840222</td>\n",
       "      <td>F</td>\n",
       "      <td>N</td>\n",
       "      <td>N</td>\n",
       "      <td>0</td>\n",
       "      <td>103500.0</td>\n",
       "      <td>Working</td>\n",
       "      <td>Secondary / secondary special</td>\n",
       "      <td>Single / not married</td>\n",
       "      <td>House / apartment</td>\n",
       "      <td>-15939</td>\n",
       "      <td>-3007</td>\n",
       "      <td>1</td>\n",
       "      <td>0</td>\n",
       "      <td>0</td>\n",
       "      <td>0</td>\n",
       "      <td>Laborers</td>\n",
       "      <td>1.0</td>\n",
       "    </tr>\n",
       "    <tr>\n",
       "      <th>438554</th>\n",
       "      <td>6841878</td>\n",
       "      <td>F</td>\n",
       "      <td>N</td>\n",
       "      <td>N</td>\n",
       "      <td>0</td>\n",
       "      <td>54000.0</td>\n",
       "      <td>Commercial associate</td>\n",
       "      <td>Higher education</td>\n",
       "      <td>Single / not married</td>\n",
       "      <td>With parents</td>\n",
       "      <td>-8169</td>\n",
       "      <td>-372</td>\n",
       "      <td>1</td>\n",
       "      <td>1</td>\n",
       "      <td>0</td>\n",
       "      <td>0</td>\n",
       "      <td>Sales staff</td>\n",
       "      <td>1.0</td>\n",
       "    </tr>\n",
       "    <tr>\n",
       "      <th>438555</th>\n",
       "      <td>6842765</td>\n",
       "      <td>F</td>\n",
       "      <td>N</td>\n",
       "      <td>Y</td>\n",
       "      <td>0</td>\n",
       "      <td>72000.0</td>\n",
       "      <td>Pensioner</td>\n",
       "      <td>Secondary / secondary special</td>\n",
       "      <td>Married</td>\n",
       "      <td>House / apartment</td>\n",
       "      <td>-21673</td>\n",
       "      <td>365243</td>\n",
       "      <td>1</td>\n",
       "      <td>0</td>\n",
       "      <td>0</td>\n",
       "      <td>0</td>\n",
       "      <td>NaN</td>\n",
       "      <td>2.0</td>\n",
       "    </tr>\n",
       "    <tr>\n",
       "      <th>438556</th>\n",
       "      <td>6842885</td>\n",
       "      <td>F</td>\n",
       "      <td>N</td>\n",
       "      <td>Y</td>\n",
       "      <td>0</td>\n",
       "      <td>121500.0</td>\n",
       "      <td>Working</td>\n",
       "      <td>Secondary / secondary special</td>\n",
       "      <td>Married</td>\n",
       "      <td>House / apartment</td>\n",
       "      <td>-18858</td>\n",
       "      <td>-1201</td>\n",
       "      <td>1</td>\n",
       "      <td>0</td>\n",
       "      <td>1</td>\n",
       "      <td>0</td>\n",
       "      <td>Sales staff</td>\n",
       "      <td>2.0</td>\n",
       "    </tr>\n",
       "  </tbody>\n",
       "</table>\n",
       "<p>438557 rows × 18 columns</p>\n",
       "</div>"
      ],
      "text/plain": [
       "             ID CODE_GENDER FLAG_OWN_CAR FLAG_OWN_REALTY  CNT_CHILDREN  \\\n",
       "0       5008804           M            Y               Y             0   \n",
       "1       5008805           M            Y               Y             0   \n",
       "2       5008806           M            Y               Y             0   \n",
       "3       5008808           F            N               Y             0   \n",
       "4       5008809           F            N               Y             0   \n",
       "...         ...         ...          ...             ...           ...   \n",
       "438552  6840104           M            N               Y             0   \n",
       "438553  6840222           F            N               N             0   \n",
       "438554  6841878           F            N               N             0   \n",
       "438555  6842765           F            N               Y             0   \n",
       "438556  6842885           F            N               Y             0   \n",
       "\n",
       "        AMT_INCOME_TOTAL      NAME_INCOME_TYPE            NAME_EDUCATION_TYPE  \\\n",
       "0               427500.0               Working               Higher education   \n",
       "1               427500.0               Working               Higher education   \n",
       "2               112500.0               Working  Secondary / secondary special   \n",
       "3               270000.0  Commercial associate  Secondary / secondary special   \n",
       "4               270000.0  Commercial associate  Secondary / secondary special   \n",
       "...                  ...                   ...                            ...   \n",
       "438552          135000.0             Pensioner  Secondary / secondary special   \n",
       "438553          103500.0               Working  Secondary / secondary special   \n",
       "438554           54000.0  Commercial associate               Higher education   \n",
       "438555           72000.0             Pensioner  Secondary / secondary special   \n",
       "438556          121500.0               Working  Secondary / secondary special   \n",
       "\n",
       "          NAME_FAMILY_STATUS  NAME_HOUSING_TYPE  DAYS_BIRTH  DAYS_EMPLOYED  \\\n",
       "0             Civil marriage   Rented apartment      -12005          -4542   \n",
       "1             Civil marriage   Rented apartment      -12005          -4542   \n",
       "2                    Married  House / apartment      -21474          -1134   \n",
       "3       Single / not married  House / apartment      -19110          -3051   \n",
       "4       Single / not married  House / apartment      -19110          -3051   \n",
       "...                      ...                ...         ...            ...   \n",
       "438552             Separated  House / apartment      -22717         365243   \n",
       "438553  Single / not married  House / apartment      -15939          -3007   \n",
       "438554  Single / not married       With parents       -8169           -372   \n",
       "438555               Married  House / apartment      -21673         365243   \n",
       "438556               Married  House / apartment      -18858          -1201   \n",
       "\n",
       "        FLAG_MOBIL  FLAG_WORK_PHONE  FLAG_PHONE  FLAG_EMAIL OCCUPATION_TYPE  \\\n",
       "0                1                1           0           0             NaN   \n",
       "1                1                1           0           0             NaN   \n",
       "2                1                0           0           0  Security staff   \n",
       "3                1                0           1           1     Sales staff   \n",
       "4                1                0           1           1     Sales staff   \n",
       "...            ...              ...         ...         ...             ...   \n",
       "438552           1                0           0           0             NaN   \n",
       "438553           1                0           0           0        Laborers   \n",
       "438554           1                1           0           0     Sales staff   \n",
       "438555           1                0           0           0             NaN   \n",
       "438556           1                0           1           0     Sales staff   \n",
       "\n",
       "        CNT_FAM_MEMBERS  \n",
       "0                   2.0  \n",
       "1                   2.0  \n",
       "2                   2.0  \n",
       "3                   1.0  \n",
       "4                   1.0  \n",
       "...                 ...  \n",
       "438552              1.0  \n",
       "438553              1.0  \n",
       "438554              1.0  \n",
       "438555              2.0  \n",
       "438556              2.0  \n",
       "\n",
       "[438557 rows x 18 columns]"
      ]
     },
     "execution_count": 3,
     "metadata": {},
     "output_type": "execute_result"
    }
   ],
   "source": [
    "application_record"
   ]
  },
  {
   "cell_type": "code",
   "execution_count": 4,
   "id": "bee2dba2",
   "metadata": {
    "execution": {
     "iopub.execute_input": "2023-02-18T06:11:39.294039Z",
     "iopub.status.busy": "2023-02-18T06:11:39.292468Z",
     "iopub.status.idle": "2023-02-18T06:11:39.306478Z",
     "shell.execute_reply": "2023-02-18T06:11:39.305516Z"
    },
    "papermill": {
     "duration": 0.027329,
     "end_time": "2023-02-18T06:11:39.308348",
     "exception": false,
     "start_time": "2023-02-18T06:11:39.281019",
     "status": "completed"
    },
    "tags": []
   },
   "outputs": [
    {
     "data": {
      "text/html": [
       "<div>\n",
       "<style scoped>\n",
       "    .dataframe tbody tr th:only-of-type {\n",
       "        vertical-align: middle;\n",
       "    }\n",
       "\n",
       "    .dataframe tbody tr th {\n",
       "        vertical-align: top;\n",
       "    }\n",
       "\n",
       "    .dataframe thead th {\n",
       "        text-align: right;\n",
       "    }\n",
       "</style>\n",
       "<table border=\"1\" class=\"dataframe\">\n",
       "  <thead>\n",
       "    <tr style=\"text-align: right;\">\n",
       "      <th></th>\n",
       "      <th>ID</th>\n",
       "      <th>MONTHS_BALANCE</th>\n",
       "      <th>STATUS</th>\n",
       "    </tr>\n",
       "  </thead>\n",
       "  <tbody>\n",
       "    <tr>\n",
       "      <th>0</th>\n",
       "      <td>5001711</td>\n",
       "      <td>0</td>\n",
       "      <td>X</td>\n",
       "    </tr>\n",
       "    <tr>\n",
       "      <th>1</th>\n",
       "      <td>5001711</td>\n",
       "      <td>-1</td>\n",
       "      <td>0</td>\n",
       "    </tr>\n",
       "    <tr>\n",
       "      <th>2</th>\n",
       "      <td>5001711</td>\n",
       "      <td>-2</td>\n",
       "      <td>0</td>\n",
       "    </tr>\n",
       "    <tr>\n",
       "      <th>3</th>\n",
       "      <td>5001711</td>\n",
       "      <td>-3</td>\n",
       "      <td>0</td>\n",
       "    </tr>\n",
       "    <tr>\n",
       "      <th>4</th>\n",
       "      <td>5001712</td>\n",
       "      <td>0</td>\n",
       "      <td>C</td>\n",
       "    </tr>\n",
       "    <tr>\n",
       "      <th>...</th>\n",
       "      <td>...</td>\n",
       "      <td>...</td>\n",
       "      <td>...</td>\n",
       "    </tr>\n",
       "    <tr>\n",
       "      <th>1048570</th>\n",
       "      <td>5150487</td>\n",
       "      <td>-25</td>\n",
       "      <td>C</td>\n",
       "    </tr>\n",
       "    <tr>\n",
       "      <th>1048571</th>\n",
       "      <td>5150487</td>\n",
       "      <td>-26</td>\n",
       "      <td>C</td>\n",
       "    </tr>\n",
       "    <tr>\n",
       "      <th>1048572</th>\n",
       "      <td>5150487</td>\n",
       "      <td>-27</td>\n",
       "      <td>C</td>\n",
       "    </tr>\n",
       "    <tr>\n",
       "      <th>1048573</th>\n",
       "      <td>5150487</td>\n",
       "      <td>-28</td>\n",
       "      <td>C</td>\n",
       "    </tr>\n",
       "    <tr>\n",
       "      <th>1048574</th>\n",
       "      <td>5150487</td>\n",
       "      <td>-29</td>\n",
       "      <td>C</td>\n",
       "    </tr>\n",
       "  </tbody>\n",
       "</table>\n",
       "<p>1048575 rows × 3 columns</p>\n",
       "</div>"
      ],
      "text/plain": [
       "              ID  MONTHS_BALANCE STATUS\n",
       "0        5001711               0      X\n",
       "1        5001711              -1      0\n",
       "2        5001711              -2      0\n",
       "3        5001711              -3      0\n",
       "4        5001712               0      C\n",
       "...          ...             ...    ...\n",
       "1048570  5150487             -25      C\n",
       "1048571  5150487             -26      C\n",
       "1048572  5150487             -27      C\n",
       "1048573  5150487             -28      C\n",
       "1048574  5150487             -29      C\n",
       "\n",
       "[1048575 rows x 3 columns]"
      ]
     },
     "execution_count": 4,
     "metadata": {},
     "output_type": "execute_result"
    }
   ],
   "source": [
    "credit_record"
   ]
  },
  {
   "cell_type": "markdown",
   "id": "628ed56f",
   "metadata": {
    "papermill": {
     "duration": 0.010389,
     "end_time": "2023-02-18T06:11:39.329439",
     "exception": false,
     "start_time": "2023-02-18T06:11:39.319050",
     "status": "completed"
    },
    "tags": []
   },
   "source": [
    "## Creating The Target Column"
   ]
  },
  {
   "cell_type": "code",
   "execution_count": 5,
   "id": "879e2910",
   "metadata": {
    "execution": {
     "iopub.execute_input": "2023-02-18T06:11:39.351840Z",
     "iopub.status.busy": "2023-02-18T06:11:39.351269Z",
     "iopub.status.idle": "2023-02-18T06:11:39.452180Z",
     "shell.execute_reply": "2023-02-18T06:11:39.451218Z"
    },
    "jupyter": {
     "outputs_hidden": false
    },
    "papermill": {
     "duration": 0.114892,
     "end_time": "2023-02-18T06:11:39.454738",
     "exception": false,
     "start_time": "2023-02-18T06:11:39.339846",
     "status": "completed"
    },
    "tags": []
   },
   "outputs": [],
   "source": [
    "# Replace X,C values with 0 as they are identified as Good clients\n",
    "credit_record.replace(['X','C'], 0,inplace=True)"
   ]
  },
  {
   "cell_type": "code",
   "execution_count": 6,
   "id": "5bbd6096",
   "metadata": {
    "execution": {
     "iopub.execute_input": "2023-02-18T06:11:39.477832Z",
     "iopub.status.busy": "2023-02-18T06:11:39.477524Z",
     "iopub.status.idle": "2023-02-18T06:11:39.850940Z",
     "shell.execute_reply": "2023-02-18T06:11:39.849828Z"
    },
    "jupyter": {
     "outputs_hidden": false
    },
    "papermill": {
     "duration": 0.38768,
     "end_time": "2023-02-18T06:11:39.853366",
     "exception": false,
     "start_time": "2023-02-18T06:11:39.465686",
     "status": "completed"
    },
    "tags": []
   },
   "outputs": [],
   "source": [
    "credit_record.STATUS = pd.to_numeric(credit_record.STATUS)"
   ]
  },
  {
   "cell_type": "code",
   "execution_count": 7,
   "id": "c15132b7",
   "metadata": {
    "execution": {
     "iopub.execute_input": "2023-02-18T06:11:39.876634Z",
     "iopub.status.busy": "2023-02-18T06:11:39.876268Z",
     "iopub.status.idle": "2023-02-18T06:11:49.775438Z",
     "shell.execute_reply": "2023-02-18T06:11:49.774424Z"
    },
    "jupyter": {
     "outputs_hidden": false
    },
    "papermill": {
     "duration": 9.913826,
     "end_time": "2023-02-18T06:11:49.778273",
     "exception": false,
     "start_time": "2023-02-18T06:11:39.864447",
     "status": "completed"
    },
    "tags": []
   },
   "outputs": [],
   "source": [
    "# Searching for customers who have at least one late month\n",
    "drop_ls = []\n",
    "for i in range(len(credit_record)):\n",
    "    if credit_record.STATUS[i] != 0:\n",
    "        drop_ls.append(credit_record.ID[i])"
   ]
  },
  {
   "cell_type": "code",
   "execution_count": 8,
   "id": "6a1f85fa",
   "metadata": {
    "execution": {
     "iopub.execute_input": "2023-02-18T06:11:49.801311Z",
     "iopub.status.busy": "2023-02-18T06:11:49.800953Z",
     "iopub.status.idle": "2023-02-18T06:11:49.806874Z",
     "shell.execute_reply": "2023-02-18T06:11:49.805844Z"
    },
    "jupyter": {
     "outputs_hidden": false
    },
    "papermill": {
     "duration": 0.019851,
     "end_time": "2023-02-18T06:11:49.808946",
     "exception": false,
     "start_time": "2023-02-18T06:11:49.789095",
     "status": "completed"
    },
    "tags": []
   },
   "outputs": [
    {
     "data": {
      "text/plain": [
       "14194"
      ]
     },
     "execution_count": 8,
     "metadata": {},
     "output_type": "execute_result"
    }
   ],
   "source": [
    "len(drop_ls)"
   ]
  },
  {
   "cell_type": "code",
   "execution_count": 9,
   "id": "4b2d8241",
   "metadata": {},
   "outputs": [],
   "source": [
    "# create a list of updated STATUS values\n",
    "new_status = [1 if ID in drop_ls else status for ID, status in zip(credit_record.ID, credit_record.STATUS)]\n",
    "\n",
    "# assign the new list of STATUS values to the credit_record DataFrame\n",
    "credit_record.STATUS = new_status\n"
   ]
  },
  {
   "cell_type": "code",
   "execution_count": 10,
   "id": "82e26a58",
   "metadata": {
    "execution": {
     "iopub.execute_input": "2023-02-18T06:11:49.831935Z",
     "iopub.status.busy": "2023-02-18T06:11:49.831200Z",
     "iopub.status.idle": "2023-02-18T06:16:22.171017Z",
     "shell.execute_reply": "2023-02-18T06:16:22.169800Z"
    },
    "jupyter": {
     "outputs_hidden": false
    },
    "papermill": {
     "duration": 272.354232,
     "end_time": "2023-02-18T06:16:22.173946",
     "exception": false,
     "start_time": "2023-02-18T06:11:49.819714",
     "status": "completed"
    },
    "tags": []
   },
   "outputs": [],
   "source": [
    "# Changing the STATUS of any client with at least one late month to 1\n",
    "for i in range(len(credit_record)):\n",
    "        if credit_record.ID[i] in drop_ls:\n",
    "            credit_record.STATUS[i] = 1"
   ]
  },
  {
   "cell_type": "code",
   "execution_count": 11,
   "id": "0176ae28",
   "metadata": {
    "execution": {
     "iopub.execute_input": "2023-02-18T06:16:22.197615Z",
     "iopub.status.busy": "2023-02-18T06:16:22.197232Z",
     "iopub.status.idle": "2023-02-18T06:16:22.217681Z",
     "shell.execute_reply": "2023-02-18T06:16:22.216775Z"
    },
    "jupyter": {
     "outputs_hidden": false
    },
    "papermill": {
     "duration": 0.034488,
     "end_time": "2023-02-18T06:16:22.219569",
     "exception": false,
     "start_time": "2023-02-18T06:16:22.185081",
     "status": "completed"
    },
    "tags": []
   },
   "outputs": [
    {
     "data": {
      "text/plain": [
       "0    904764\n",
       "1    143811\n",
       "Name: STATUS, dtype: int64"
      ]
     },
     "execution_count": 11,
     "metadata": {},
     "output_type": "execute_result"
    }
   ],
   "source": [
    "credit_record.STATUS.value_counts()"
   ]
  },
  {
   "cell_type": "code",
   "execution_count": 12,
   "id": "3dd73f66",
   "metadata": {
    "execution": {
     "iopub.execute_input": "2023-02-18T06:16:22.242224Z",
     "iopub.status.busy": "2023-02-18T06:16:22.241918Z",
     "iopub.status.idle": "2023-02-18T06:16:22.347122Z",
     "shell.execute_reply": "2023-02-18T06:16:22.346020Z"
    },
    "jupyter": {
     "outputs_hidden": false
    },
    "papermill": {
     "duration": 0.118851,
     "end_time": "2023-02-18T06:16:22.349400",
     "exception": false,
     "start_time": "2023-02-18T06:16:22.230549",
     "status": "completed"
    },
    "tags": []
   },
   "outputs": [
    {
     "data": {
      "text/html": [
       "<div>\n",
       "<style scoped>\n",
       "    .dataframe tbody tr th:only-of-type {\n",
       "        vertical-align: middle;\n",
       "    }\n",
       "\n",
       "    .dataframe tbody tr th {\n",
       "        vertical-align: top;\n",
       "    }\n",
       "\n",
       "    .dataframe thead th {\n",
       "        text-align: right;\n",
       "    }\n",
       "</style>\n",
       "<table border=\"1\" class=\"dataframe\">\n",
       "  <thead>\n",
       "    <tr style=\"text-align: right;\">\n",
       "      <th></th>\n",
       "      <th>ID</th>\n",
       "      <th>MONTHS_BALANCE</th>\n",
       "      <th>STATUS</th>\n",
       "    </tr>\n",
       "  </thead>\n",
       "  <tbody>\n",
       "    <tr>\n",
       "      <th>0</th>\n",
       "      <td>5001711</td>\n",
       "      <td>0</td>\n",
       "      <td>0</td>\n",
       "    </tr>\n",
       "    <tr>\n",
       "      <th>1</th>\n",
       "      <td>5001711</td>\n",
       "      <td>-1</td>\n",
       "      <td>0</td>\n",
       "    </tr>\n",
       "    <tr>\n",
       "      <th>2</th>\n",
       "      <td>5001711</td>\n",
       "      <td>-2</td>\n",
       "      <td>0</td>\n",
       "    </tr>\n",
       "    <tr>\n",
       "      <th>3</th>\n",
       "      <td>5001711</td>\n",
       "      <td>-3</td>\n",
       "      <td>0</td>\n",
       "    </tr>\n",
       "    <tr>\n",
       "      <th>4</th>\n",
       "      <td>5001712</td>\n",
       "      <td>0</td>\n",
       "      <td>0</td>\n",
       "    </tr>\n",
       "    <tr>\n",
       "      <th>...</th>\n",
       "      <td>...</td>\n",
       "      <td>...</td>\n",
       "      <td>...</td>\n",
       "    </tr>\n",
       "    <tr>\n",
       "      <th>1048570</th>\n",
       "      <td>5150487</td>\n",
       "      <td>-25</td>\n",
       "      <td>0</td>\n",
       "    </tr>\n",
       "    <tr>\n",
       "      <th>1048571</th>\n",
       "      <td>5150487</td>\n",
       "      <td>-26</td>\n",
       "      <td>0</td>\n",
       "    </tr>\n",
       "    <tr>\n",
       "      <th>1048572</th>\n",
       "      <td>5150487</td>\n",
       "      <td>-27</td>\n",
       "      <td>0</td>\n",
       "    </tr>\n",
       "    <tr>\n",
       "      <th>1048573</th>\n",
       "      <td>5150487</td>\n",
       "      <td>-28</td>\n",
       "      <td>0</td>\n",
       "    </tr>\n",
       "    <tr>\n",
       "      <th>1048574</th>\n",
       "      <td>5150487</td>\n",
       "      <td>-29</td>\n",
       "      <td>0</td>\n",
       "    </tr>\n",
       "  </tbody>\n",
       "</table>\n",
       "<p>1048575 rows × 3 columns</p>\n",
       "</div>"
      ],
      "text/plain": [
       "              ID  MONTHS_BALANCE  STATUS\n",
       "0        5001711               0       0\n",
       "1        5001711              -1       0\n",
       "2        5001711              -2       0\n",
       "3        5001711              -3       0\n",
       "4        5001712               0       0\n",
       "...          ...             ...     ...\n",
       "1048570  5150487             -25       0\n",
       "1048571  5150487             -26       0\n",
       "1048572  5150487             -27       0\n",
       "1048573  5150487             -28       0\n",
       "1048574  5150487             -29       0\n",
       "\n",
       "[1048575 rows x 3 columns]"
      ]
     },
     "execution_count": 12,
     "metadata": {},
     "output_type": "execute_result"
    }
   ],
   "source": [
    "credit_record.drop_duplicates(inplace=True)\n",
    "credit_record"
   ]
  },
  {
   "cell_type": "markdown",
   "id": "7c9b95a5",
   "metadata": {
    "papermill": {
     "duration": 0.010848,
     "end_time": "2023-02-18T06:16:22.371641",
     "exception": false,
     "start_time": "2023-02-18T06:16:22.360793",
     "status": "completed"
    },
    "tags": []
   },
   "source": [
    "## Merging Datasets"
   ]
  },
  {
   "cell_type": "code",
   "execution_count": 13,
   "id": "20876daa",
   "metadata": {
    "execution": {
     "iopub.execute_input": "2023-02-18T06:16:22.395012Z",
     "iopub.status.busy": "2023-02-18T06:16:22.394265Z",
     "iopub.status.idle": "2023-02-18T06:16:22.400777Z",
     "shell.execute_reply": "2023-02-18T06:16:22.399352Z"
    },
    "papermill": {
     "duration": 0.020745,
     "end_time": "2023-02-18T06:16:22.402999",
     "exception": false,
     "start_time": "2023-02-18T06:16:22.382254",
     "status": "completed"
    },
    "tags": []
   },
   "outputs": [
    {
     "name": "stdout",
     "output_type": "stream",
     "text": [
      "No. of IDs in application_record = 438557 No. of IDs in credit_record = 1048575\n"
     ]
    }
   ],
   "source": [
    "print(f'No. of IDs in application_record = {len(application_record.ID)} No. of IDs in credit_record = {len(credit_record.ID)}')"
   ]
  },
  {
   "cell_type": "code",
   "execution_count": 14,
   "id": "30bd94b6",
   "metadata": {
    "execution": {
     "iopub.execute_input": "2023-02-18T06:16:22.427657Z",
     "iopub.status.busy": "2023-02-18T06:16:22.425887Z",
     "iopub.status.idle": "2023-02-18T06:16:23.008098Z",
     "shell.execute_reply": "2023-02-18T06:16:23.007055Z"
    },
    "papermill": {
     "duration": 0.596756,
     "end_time": "2023-02-18T06:16:23.010790",
     "exception": false,
     "start_time": "2023-02-18T06:16:22.414034",
     "status": "completed"
    },
    "tags": []
   },
   "outputs": [],
   "source": [
    "dataset = application_record.merge(credit_record, on=['ID'], how='inner')"
   ]
  },
  {
   "cell_type": "code",
   "execution_count": 15,
   "id": "9e900b2c",
   "metadata": {
    "execution": {
     "iopub.execute_input": "2023-02-18T06:16:23.036670Z",
     "iopub.status.busy": "2023-02-18T06:16:23.034829Z",
     "iopub.status.idle": "2023-02-18T06:16:23.377106Z",
     "shell.execute_reply": "2023-02-18T06:16:23.375972Z"
    },
    "papermill": {
     "duration": 0.357212,
     "end_time": "2023-02-18T06:16:23.379676",
     "exception": false,
     "start_time": "2023-02-18T06:16:23.022464",
     "status": "completed"
    },
    "tags": []
   },
   "outputs": [],
   "source": [
    "dataset.drop(['ID'],inplace=True,axis=1)"
   ]
  },
  {
   "cell_type": "code",
   "execution_count": 16,
   "id": "ab9b56ea",
   "metadata": {
    "execution": {
     "iopub.execute_input": "2023-02-18T06:16:23.404137Z",
     "iopub.status.busy": "2023-02-18T06:16:23.403558Z",
     "iopub.status.idle": "2023-02-18T06:16:24.255074Z",
     "shell.execute_reply": "2023-02-18T06:16:24.250613Z"
    },
    "jupyter": {
     "outputs_hidden": false
    },
    "papermill": {
     "duration": 0.866383,
     "end_time": "2023-02-18T06:16:24.257756",
     "exception": false,
     "start_time": "2023-02-18T06:16:23.391373",
     "status": "completed"
    },
    "tags": []
   },
   "outputs": [
    {
     "data": {
      "text/plain": [
       "412393"
      ]
     },
     "execution_count": 16,
     "metadata": {},
     "output_type": "execute_result"
    }
   ],
   "source": [
    "dataset.duplicated().sum()"
   ]
  },
  {
   "cell_type": "code",
   "execution_count": 17,
   "id": "fe9e2b2f",
   "metadata": {
    "execution": {
     "iopub.execute_input": "2023-02-18T06:16:24.293377Z",
     "iopub.status.busy": "2023-02-18T06:16:24.292905Z",
     "iopub.status.idle": "2023-02-18T06:16:25.078461Z",
     "shell.execute_reply": "2023-02-18T06:16:25.077395Z"
    },
    "jupyter": {
     "outputs_hidden": false
    },
    "papermill": {
     "duration": 0.805897,
     "end_time": "2023-02-18T06:16:25.080923",
     "exception": false,
     "start_time": "2023-02-18T06:16:24.275026",
     "status": "completed"
    },
    "tags": []
   },
   "outputs": [],
   "source": [
    "dataset.drop_duplicates(inplace=True)"
   ]
  },
  {
   "cell_type": "code",
   "execution_count": 18,
   "id": "bb0bb00f",
   "metadata": {
    "execution": {
     "iopub.execute_input": "2023-02-18T06:16:25.105097Z",
     "iopub.status.busy": "2023-02-18T06:16:25.104807Z",
     "iopub.status.idle": "2023-02-18T06:16:25.133699Z",
     "shell.execute_reply": "2023-02-18T06:16:25.132514Z"
    },
    "papermill": {
     "duration": 0.044021,
     "end_time": "2023-02-18T06:16:25.136723",
     "exception": false,
     "start_time": "2023-02-18T06:16:25.092702",
     "status": "completed"
    },
    "tags": []
   },
   "outputs": [
    {
     "data": {
      "text/html": [
       "<div>\n",
       "<style scoped>\n",
       "    .dataframe tbody tr th:only-of-type {\n",
       "        vertical-align: middle;\n",
       "    }\n",
       "\n",
       "    .dataframe tbody tr th {\n",
       "        vertical-align: top;\n",
       "    }\n",
       "\n",
       "    .dataframe thead th {\n",
       "        text-align: right;\n",
       "    }\n",
       "</style>\n",
       "<table border=\"1\" class=\"dataframe\">\n",
       "  <thead>\n",
       "    <tr style=\"text-align: right;\">\n",
       "      <th></th>\n",
       "      <th>CODE_GENDER</th>\n",
       "      <th>FLAG_OWN_CAR</th>\n",
       "      <th>FLAG_OWN_REALTY</th>\n",
       "      <th>CNT_CHILDREN</th>\n",
       "      <th>AMT_INCOME_TOTAL</th>\n",
       "      <th>NAME_INCOME_TYPE</th>\n",
       "      <th>NAME_EDUCATION_TYPE</th>\n",
       "      <th>NAME_FAMILY_STATUS</th>\n",
       "      <th>NAME_HOUSING_TYPE</th>\n",
       "      <th>DAYS_BIRTH</th>\n",
       "      <th>DAYS_EMPLOYED</th>\n",
       "      <th>FLAG_MOBIL</th>\n",
       "      <th>FLAG_WORK_PHONE</th>\n",
       "      <th>FLAG_PHONE</th>\n",
       "      <th>FLAG_EMAIL</th>\n",
       "      <th>OCCUPATION_TYPE</th>\n",
       "      <th>CNT_FAM_MEMBERS</th>\n",
       "      <th>MONTHS_BALANCE</th>\n",
       "      <th>STATUS</th>\n",
       "    </tr>\n",
       "  </thead>\n",
       "  <tbody>\n",
       "    <tr>\n",
       "      <th>0</th>\n",
       "      <td>M</td>\n",
       "      <td>Y</td>\n",
       "      <td>Y</td>\n",
       "      <td>0</td>\n",
       "      <td>427500.0</td>\n",
       "      <td>Working</td>\n",
       "      <td>Higher education</td>\n",
       "      <td>Civil marriage</td>\n",
       "      <td>Rented apartment</td>\n",
       "      <td>-12005</td>\n",
       "      <td>-4542</td>\n",
       "      <td>1</td>\n",
       "      <td>1</td>\n",
       "      <td>0</td>\n",
       "      <td>0</td>\n",
       "      <td>NaN</td>\n",
       "      <td>2.0</td>\n",
       "      <td>0</td>\n",
       "      <td>1</td>\n",
       "    </tr>\n",
       "    <tr>\n",
       "      <th>1</th>\n",
       "      <td>M</td>\n",
       "      <td>Y</td>\n",
       "      <td>Y</td>\n",
       "      <td>0</td>\n",
       "      <td>427500.0</td>\n",
       "      <td>Working</td>\n",
       "      <td>Higher education</td>\n",
       "      <td>Civil marriage</td>\n",
       "      <td>Rented apartment</td>\n",
       "      <td>-12005</td>\n",
       "      <td>-4542</td>\n",
       "      <td>1</td>\n",
       "      <td>1</td>\n",
       "      <td>0</td>\n",
       "      <td>0</td>\n",
       "      <td>NaN</td>\n",
       "      <td>2.0</td>\n",
       "      <td>-1</td>\n",
       "      <td>1</td>\n",
       "    </tr>\n",
       "    <tr>\n",
       "      <th>2</th>\n",
       "      <td>M</td>\n",
       "      <td>Y</td>\n",
       "      <td>Y</td>\n",
       "      <td>0</td>\n",
       "      <td>427500.0</td>\n",
       "      <td>Working</td>\n",
       "      <td>Higher education</td>\n",
       "      <td>Civil marriage</td>\n",
       "      <td>Rented apartment</td>\n",
       "      <td>-12005</td>\n",
       "      <td>-4542</td>\n",
       "      <td>1</td>\n",
       "      <td>1</td>\n",
       "      <td>0</td>\n",
       "      <td>0</td>\n",
       "      <td>NaN</td>\n",
       "      <td>2.0</td>\n",
       "      <td>-2</td>\n",
       "      <td>1</td>\n",
       "    </tr>\n",
       "    <tr>\n",
       "      <th>3</th>\n",
       "      <td>M</td>\n",
       "      <td>Y</td>\n",
       "      <td>Y</td>\n",
       "      <td>0</td>\n",
       "      <td>427500.0</td>\n",
       "      <td>Working</td>\n",
       "      <td>Higher education</td>\n",
       "      <td>Civil marriage</td>\n",
       "      <td>Rented apartment</td>\n",
       "      <td>-12005</td>\n",
       "      <td>-4542</td>\n",
       "      <td>1</td>\n",
       "      <td>1</td>\n",
       "      <td>0</td>\n",
       "      <td>0</td>\n",
       "      <td>NaN</td>\n",
       "      <td>2.0</td>\n",
       "      <td>-3</td>\n",
       "      <td>1</td>\n",
       "    </tr>\n",
       "    <tr>\n",
       "      <th>4</th>\n",
       "      <td>M</td>\n",
       "      <td>Y</td>\n",
       "      <td>Y</td>\n",
       "      <td>0</td>\n",
       "      <td>427500.0</td>\n",
       "      <td>Working</td>\n",
       "      <td>Higher education</td>\n",
       "      <td>Civil marriage</td>\n",
       "      <td>Rented apartment</td>\n",
       "      <td>-12005</td>\n",
       "      <td>-4542</td>\n",
       "      <td>1</td>\n",
       "      <td>1</td>\n",
       "      <td>0</td>\n",
       "      <td>0</td>\n",
       "      <td>NaN</td>\n",
       "      <td>2.0</td>\n",
       "      <td>-4</td>\n",
       "      <td>1</td>\n",
       "    </tr>\n",
       "    <tr>\n",
       "      <th>...</th>\n",
       "      <td>...</td>\n",
       "      <td>...</td>\n",
       "      <td>...</td>\n",
       "      <td>...</td>\n",
       "      <td>...</td>\n",
       "      <td>...</td>\n",
       "      <td>...</td>\n",
       "      <td>...</td>\n",
       "      <td>...</td>\n",
       "      <td>...</td>\n",
       "      <td>...</td>\n",
       "      <td>...</td>\n",
       "      <td>...</td>\n",
       "      <td>...</td>\n",
       "      <td>...</td>\n",
       "      <td>...</td>\n",
       "      <td>...</td>\n",
       "      <td>...</td>\n",
       "      <td>...</td>\n",
       "    </tr>\n",
       "    <tr>\n",
       "      <th>777710</th>\n",
       "      <td>M</td>\n",
       "      <td>N</td>\n",
       "      <td>Y</td>\n",
       "      <td>0</td>\n",
       "      <td>112500.0</td>\n",
       "      <td>Working</td>\n",
       "      <td>Secondary / secondary special</td>\n",
       "      <td>Single / not married</td>\n",
       "      <td>Rented apartment</td>\n",
       "      <td>-9188</td>\n",
       "      <td>-1193</td>\n",
       "      <td>1</td>\n",
       "      <td>0</td>\n",
       "      <td>0</td>\n",
       "      <td>0</td>\n",
       "      <td>Laborers</td>\n",
       "      <td>1.0</td>\n",
       "      <td>-9</td>\n",
       "      <td>1</td>\n",
       "    </tr>\n",
       "    <tr>\n",
       "      <th>777711</th>\n",
       "      <td>M</td>\n",
       "      <td>N</td>\n",
       "      <td>Y</td>\n",
       "      <td>0</td>\n",
       "      <td>112500.0</td>\n",
       "      <td>Working</td>\n",
       "      <td>Secondary / secondary special</td>\n",
       "      <td>Single / not married</td>\n",
       "      <td>Rented apartment</td>\n",
       "      <td>-9188</td>\n",
       "      <td>-1193</td>\n",
       "      <td>1</td>\n",
       "      <td>0</td>\n",
       "      <td>0</td>\n",
       "      <td>0</td>\n",
       "      <td>Laborers</td>\n",
       "      <td>1.0</td>\n",
       "      <td>-10</td>\n",
       "      <td>1</td>\n",
       "    </tr>\n",
       "    <tr>\n",
       "      <th>777712</th>\n",
       "      <td>M</td>\n",
       "      <td>N</td>\n",
       "      <td>Y</td>\n",
       "      <td>0</td>\n",
       "      <td>112500.0</td>\n",
       "      <td>Working</td>\n",
       "      <td>Secondary / secondary special</td>\n",
       "      <td>Single / not married</td>\n",
       "      <td>Rented apartment</td>\n",
       "      <td>-9188</td>\n",
       "      <td>-1193</td>\n",
       "      <td>1</td>\n",
       "      <td>0</td>\n",
       "      <td>0</td>\n",
       "      <td>0</td>\n",
       "      <td>Laborers</td>\n",
       "      <td>1.0</td>\n",
       "      <td>-11</td>\n",
       "      <td>1</td>\n",
       "    </tr>\n",
       "    <tr>\n",
       "      <th>777713</th>\n",
       "      <td>M</td>\n",
       "      <td>N</td>\n",
       "      <td>Y</td>\n",
       "      <td>0</td>\n",
       "      <td>112500.0</td>\n",
       "      <td>Working</td>\n",
       "      <td>Secondary / secondary special</td>\n",
       "      <td>Single / not married</td>\n",
       "      <td>Rented apartment</td>\n",
       "      <td>-9188</td>\n",
       "      <td>-1193</td>\n",
       "      <td>1</td>\n",
       "      <td>0</td>\n",
       "      <td>0</td>\n",
       "      <td>0</td>\n",
       "      <td>Laborers</td>\n",
       "      <td>1.0</td>\n",
       "      <td>-12</td>\n",
       "      <td>1</td>\n",
       "    </tr>\n",
       "    <tr>\n",
       "      <th>777714</th>\n",
       "      <td>M</td>\n",
       "      <td>N</td>\n",
       "      <td>Y</td>\n",
       "      <td>0</td>\n",
       "      <td>112500.0</td>\n",
       "      <td>Working</td>\n",
       "      <td>Secondary / secondary special</td>\n",
       "      <td>Single / not married</td>\n",
       "      <td>Rented apartment</td>\n",
       "      <td>-9188</td>\n",
       "      <td>-1193</td>\n",
       "      <td>1</td>\n",
       "      <td>0</td>\n",
       "      <td>0</td>\n",
       "      <td>0</td>\n",
       "      <td>Laborers</td>\n",
       "      <td>1.0</td>\n",
       "      <td>-13</td>\n",
       "      <td>1</td>\n",
       "    </tr>\n",
       "  </tbody>\n",
       "</table>\n",
       "<p>365322 rows × 19 columns</p>\n",
       "</div>"
      ],
      "text/plain": [
       "       CODE_GENDER FLAG_OWN_CAR FLAG_OWN_REALTY  CNT_CHILDREN  \\\n",
       "0                M            Y               Y             0   \n",
       "1                M            Y               Y             0   \n",
       "2                M            Y               Y             0   \n",
       "3                M            Y               Y             0   \n",
       "4                M            Y               Y             0   \n",
       "...            ...          ...             ...           ...   \n",
       "777710           M            N               Y             0   \n",
       "777711           M            N               Y             0   \n",
       "777712           M            N               Y             0   \n",
       "777713           M            N               Y             0   \n",
       "777714           M            N               Y             0   \n",
       "\n",
       "        AMT_INCOME_TOTAL NAME_INCOME_TYPE            NAME_EDUCATION_TYPE  \\\n",
       "0               427500.0          Working               Higher education   \n",
       "1               427500.0          Working               Higher education   \n",
       "2               427500.0          Working               Higher education   \n",
       "3               427500.0          Working               Higher education   \n",
       "4               427500.0          Working               Higher education   \n",
       "...                  ...              ...                            ...   \n",
       "777710          112500.0          Working  Secondary / secondary special   \n",
       "777711          112500.0          Working  Secondary / secondary special   \n",
       "777712          112500.0          Working  Secondary / secondary special   \n",
       "777713          112500.0          Working  Secondary / secondary special   \n",
       "777714          112500.0          Working  Secondary / secondary special   \n",
       "\n",
       "          NAME_FAMILY_STATUS NAME_HOUSING_TYPE  DAYS_BIRTH  DAYS_EMPLOYED  \\\n",
       "0             Civil marriage  Rented apartment      -12005          -4542   \n",
       "1             Civil marriage  Rented apartment      -12005          -4542   \n",
       "2             Civil marriage  Rented apartment      -12005          -4542   \n",
       "3             Civil marriage  Rented apartment      -12005          -4542   \n",
       "4             Civil marriage  Rented apartment      -12005          -4542   \n",
       "...                      ...               ...         ...            ...   \n",
       "777710  Single / not married  Rented apartment       -9188          -1193   \n",
       "777711  Single / not married  Rented apartment       -9188          -1193   \n",
       "777712  Single / not married  Rented apartment       -9188          -1193   \n",
       "777713  Single / not married  Rented apartment       -9188          -1193   \n",
       "777714  Single / not married  Rented apartment       -9188          -1193   \n",
       "\n",
       "        FLAG_MOBIL  FLAG_WORK_PHONE  FLAG_PHONE  FLAG_EMAIL OCCUPATION_TYPE  \\\n",
       "0                1                1           0           0             NaN   \n",
       "1                1                1           0           0             NaN   \n",
       "2                1                1           0           0             NaN   \n",
       "3                1                1           0           0             NaN   \n",
       "4                1                1           0           0             NaN   \n",
       "...            ...              ...         ...         ...             ...   \n",
       "777710           1                0           0           0        Laborers   \n",
       "777711           1                0           0           0        Laborers   \n",
       "777712           1                0           0           0        Laborers   \n",
       "777713           1                0           0           0        Laborers   \n",
       "777714           1                0           0           0        Laborers   \n",
       "\n",
       "        CNT_FAM_MEMBERS  MONTHS_BALANCE  STATUS  \n",
       "0                   2.0               0       1  \n",
       "1                   2.0              -1       1  \n",
       "2                   2.0              -2       1  \n",
       "3                   2.0              -3       1  \n",
       "4                   2.0              -4       1  \n",
       "...                 ...             ...     ...  \n",
       "777710              1.0              -9       1  \n",
       "777711              1.0             -10       1  \n",
       "777712              1.0             -11       1  \n",
       "777713              1.0             -12       1  \n",
       "777714              1.0             -13       1  \n",
       "\n",
       "[365322 rows x 19 columns]"
      ]
     },
     "execution_count": 18,
     "metadata": {},
     "output_type": "execute_result"
    }
   ],
   "source": [
    "dataset"
   ]
  },
  {
   "cell_type": "markdown",
   "id": "85caf412",
   "metadata": {
    "papermill": {
     "duration": 0.012815,
     "end_time": "2023-02-18T06:16:25.162332",
     "exception": false,
     "start_time": "2023-02-18T06:16:25.149517",
     "status": "completed"
    },
    "tags": []
   },
   "source": [
    "## Getting Data's Information and Description"
   ]
  },
  {
   "cell_type": "code",
   "execution_count": 19,
   "id": "fb9d892a",
   "metadata": {
    "execution": {
     "iopub.execute_input": "2023-02-18T06:16:25.188068Z",
     "iopub.status.busy": "2023-02-18T06:16:25.187804Z",
     "iopub.status.idle": "2023-02-18T06:16:25.308674Z",
     "shell.execute_reply": "2023-02-18T06:16:25.307436Z"
    },
    "papermill": {
     "duration": 0.137773,
     "end_time": "2023-02-18T06:16:25.312424",
     "exception": false,
     "start_time": "2023-02-18T06:16:25.174651",
     "status": "completed"
    },
    "tags": []
   },
   "outputs": [
    {
     "name": "stdout",
     "output_type": "stream",
     "text": [
      "<class 'pandas.core.frame.DataFrame'>\n",
      "Int64Index: 365322 entries, 0 to 777714\n",
      "Data columns (total 19 columns):\n",
      " #   Column               Non-Null Count   Dtype  \n",
      "---  ------               --------------   -----  \n",
      " 0   CODE_GENDER          365322 non-null  object \n",
      " 1   FLAG_OWN_CAR         365322 non-null  object \n",
      " 2   FLAG_OWN_REALTY      365322 non-null  object \n",
      " 3   CNT_CHILDREN         365322 non-null  int64  \n",
      " 4   AMT_INCOME_TOTAL     365322 non-null  float64\n",
      " 5   NAME_INCOME_TYPE     365322 non-null  object \n",
      " 6   NAME_EDUCATION_TYPE  365322 non-null  object \n",
      " 7   NAME_FAMILY_STATUS   365322 non-null  object \n",
      " 8   NAME_HOUSING_TYPE    365322 non-null  object \n",
      " 9   DAYS_BIRTH           365322 non-null  int64  \n",
      " 10  DAYS_EMPLOYED        365322 non-null  int64  \n",
      " 11  FLAG_MOBIL           365322 non-null  int64  \n",
      " 12  FLAG_WORK_PHONE      365322 non-null  int64  \n",
      " 13  FLAG_PHONE           365322 non-null  int64  \n",
      " 14  FLAG_EMAIL           365322 non-null  int64  \n",
      " 15  OCCUPATION_TYPE      252192 non-null  object \n",
      " 16  CNT_FAM_MEMBERS      365322 non-null  float64\n",
      " 17  MONTHS_BALANCE       365322 non-null  int64  \n",
      " 18  STATUS               365322 non-null  int64  \n",
      "dtypes: float64(2), int64(9), object(8)\n",
      "memory usage: 55.7+ MB\n"
     ]
    }
   ],
   "source": [
    "dataset.info()"
   ]
  },
  {
   "cell_type": "code",
   "execution_count": 20,
   "id": "acee1eae",
   "metadata": {
    "execution": {
     "iopub.execute_input": "2023-02-18T06:16:25.338526Z",
     "iopub.status.busy": "2023-02-18T06:16:25.338204Z",
     "iopub.status.idle": "2023-02-18T06:16:25.452211Z",
     "shell.execute_reply": "2023-02-18T06:16:25.450868Z"
    },
    "papermill": {
     "duration": 0.130422,
     "end_time": "2023-02-18T06:16:25.455493",
     "exception": false,
     "start_time": "2023-02-18T06:16:25.325071",
     "status": "completed"
    },
    "tags": []
   },
   "outputs": [
    {
     "data": {
      "text/html": [
       "<div>\n",
       "<style scoped>\n",
       "    .dataframe tbody tr th:only-of-type {\n",
       "        vertical-align: middle;\n",
       "    }\n",
       "\n",
       "    .dataframe tbody tr th {\n",
       "        vertical-align: top;\n",
       "    }\n",
       "\n",
       "    .dataframe thead th {\n",
       "        text-align: right;\n",
       "    }\n",
       "</style>\n",
       "<table border=\"1\" class=\"dataframe\">\n",
       "  <thead>\n",
       "    <tr style=\"text-align: right;\">\n",
       "      <th></th>\n",
       "      <th>CNT_CHILDREN</th>\n",
       "      <th>AMT_INCOME_TOTAL</th>\n",
       "      <th>DAYS_BIRTH</th>\n",
       "      <th>DAYS_EMPLOYED</th>\n",
       "      <th>FLAG_MOBIL</th>\n",
       "      <th>FLAG_WORK_PHONE</th>\n",
       "      <th>FLAG_PHONE</th>\n",
       "      <th>FLAG_EMAIL</th>\n",
       "      <th>CNT_FAM_MEMBERS</th>\n",
       "      <th>MONTHS_BALANCE</th>\n",
       "      <th>STATUS</th>\n",
       "    </tr>\n",
       "  </thead>\n",
       "  <tbody>\n",
       "    <tr>\n",
       "      <th>count</th>\n",
       "      <td>365322.000000</td>\n",
       "      <td>3.653220e+05</td>\n",
       "      <td>365322.000000</td>\n",
       "      <td>365322.000000</td>\n",
       "      <td>365322.0</td>\n",
       "      <td>365322.000000</td>\n",
       "      <td>365322.000000</td>\n",
       "      <td>365322.000000</td>\n",
       "      <td>365322.00000</td>\n",
       "      <td>365322.000000</td>\n",
       "      <td>365322.000000</td>\n",
       "    </tr>\n",
       "    <tr>\n",
       "      <th>mean</th>\n",
       "      <td>0.425742</td>\n",
       "      <td>1.848982e+05</td>\n",
       "      <td>-16161.482656</td>\n",
       "      <td>60776.306365</td>\n",
       "      <td>1.0</td>\n",
       "      <td>0.221878</td>\n",
       "      <td>0.294214</td>\n",
       "      <td>0.089595</td>\n",
       "      <td>2.19825</td>\n",
       "      <td>-21.695310</td>\n",
       "      <td>0.203226</td>\n",
       "    </tr>\n",
       "    <tr>\n",
       "      <th>std</th>\n",
       "      <td>0.768540</td>\n",
       "      <td>1.017316e+05</td>\n",
       "      <td>4144.182785</td>\n",
       "      <td>139028.719425</td>\n",
       "      <td>0.0</td>\n",
       "      <td>0.415510</td>\n",
       "      <td>0.455689</td>\n",
       "      <td>0.285601</td>\n",
       "      <td>0.92849</td>\n",
       "      <td>15.016078</td>\n",
       "      <td>0.402400</td>\n",
       "    </tr>\n",
       "    <tr>\n",
       "      <th>min</th>\n",
       "      <td>0.000000</td>\n",
       "      <td>2.700000e+04</td>\n",
       "      <td>-25152.000000</td>\n",
       "      <td>-15713.000000</td>\n",
       "      <td>1.0</td>\n",
       "      <td>0.000000</td>\n",
       "      <td>0.000000</td>\n",
       "      <td>0.000000</td>\n",
       "      <td>1.00000</td>\n",
       "      <td>-60.000000</td>\n",
       "      <td>0.000000</td>\n",
       "    </tr>\n",
       "    <tr>\n",
       "      <th>25%</th>\n",
       "      <td>0.000000</td>\n",
       "      <td>1.170000e+05</td>\n",
       "      <td>-19614.000000</td>\n",
       "      <td>-3208.000000</td>\n",
       "      <td>1.0</td>\n",
       "      <td>0.000000</td>\n",
       "      <td>0.000000</td>\n",
       "      <td>0.000000</td>\n",
       "      <td>2.00000</td>\n",
       "      <td>-33.000000</td>\n",
       "      <td>0.000000</td>\n",
       "    </tr>\n",
       "    <tr>\n",
       "      <th>50%</th>\n",
       "      <td>0.000000</td>\n",
       "      <td>1.575000e+05</td>\n",
       "      <td>-15849.000000</td>\n",
       "      <td>-1566.000000</td>\n",
       "      <td>1.0</td>\n",
       "      <td>0.000000</td>\n",
       "      <td>0.000000</td>\n",
       "      <td>0.000000</td>\n",
       "      <td>2.00000</td>\n",
       "      <td>-20.000000</td>\n",
       "      <td>0.000000</td>\n",
       "    </tr>\n",
       "    <tr>\n",
       "      <th>75%</th>\n",
       "      <td>1.000000</td>\n",
       "      <td>2.250000e+05</td>\n",
       "      <td>-12676.000000</td>\n",
       "      <td>-378.000000</td>\n",
       "      <td>1.0</td>\n",
       "      <td>0.000000</td>\n",
       "      <td>1.000000</td>\n",
       "      <td>0.000000</td>\n",
       "      <td>3.00000</td>\n",
       "      <td>-9.000000</td>\n",
       "      <td>0.000000</td>\n",
       "    </tr>\n",
       "    <tr>\n",
       "      <th>max</th>\n",
       "      <td>19.000000</td>\n",
       "      <td>1.575000e+06</td>\n",
       "      <td>-7489.000000</td>\n",
       "      <td>365243.000000</td>\n",
       "      <td>1.0</td>\n",
       "      <td>1.000000</td>\n",
       "      <td>1.000000</td>\n",
       "      <td>1.000000</td>\n",
       "      <td>20.00000</td>\n",
       "      <td>0.000000</td>\n",
       "      <td>1.000000</td>\n",
       "    </tr>\n",
       "  </tbody>\n",
       "</table>\n",
       "</div>"
      ],
      "text/plain": [
       "        CNT_CHILDREN  AMT_INCOME_TOTAL     DAYS_BIRTH  DAYS_EMPLOYED  \\\n",
       "count  365322.000000      3.653220e+05  365322.000000  365322.000000   \n",
       "mean        0.425742      1.848982e+05  -16161.482656   60776.306365   \n",
       "std         0.768540      1.017316e+05    4144.182785  139028.719425   \n",
       "min         0.000000      2.700000e+04  -25152.000000  -15713.000000   \n",
       "25%         0.000000      1.170000e+05  -19614.000000   -3208.000000   \n",
       "50%         0.000000      1.575000e+05  -15849.000000   -1566.000000   \n",
       "75%         1.000000      2.250000e+05  -12676.000000    -378.000000   \n",
       "max        19.000000      1.575000e+06   -7489.000000  365243.000000   \n",
       "\n",
       "       FLAG_MOBIL  FLAG_WORK_PHONE     FLAG_PHONE     FLAG_EMAIL  \\\n",
       "count    365322.0    365322.000000  365322.000000  365322.000000   \n",
       "mean          1.0         0.221878       0.294214       0.089595   \n",
       "std           0.0         0.415510       0.455689       0.285601   \n",
       "min           1.0         0.000000       0.000000       0.000000   \n",
       "25%           1.0         0.000000       0.000000       0.000000   \n",
       "50%           1.0         0.000000       0.000000       0.000000   \n",
       "75%           1.0         0.000000       1.000000       0.000000   \n",
       "max           1.0         1.000000       1.000000       1.000000   \n",
       "\n",
       "       CNT_FAM_MEMBERS  MONTHS_BALANCE         STATUS  \n",
       "count     365322.00000   365322.000000  365322.000000  \n",
       "mean           2.19825      -21.695310       0.203226  \n",
       "std            0.92849       15.016078       0.402400  \n",
       "min            1.00000      -60.000000       0.000000  \n",
       "25%            2.00000      -33.000000       0.000000  \n",
       "50%            2.00000      -20.000000       0.000000  \n",
       "75%            3.00000       -9.000000       0.000000  \n",
       "max           20.00000        0.000000       1.000000  "
      ]
     },
     "execution_count": 20,
     "metadata": {},
     "output_type": "execute_result"
    }
   ],
   "source": [
    "dataset.describe()"
   ]
  },
  {
   "cell_type": "code",
   "execution_count": 21,
   "id": "7ae2e3c7",
   "metadata": {
    "execution": {
     "iopub.execute_input": "2023-02-18T06:16:25.483510Z",
     "iopub.status.busy": "2023-02-18T06:16:25.483167Z",
     "iopub.status.idle": "2023-02-18T06:16:25.595509Z",
     "shell.execute_reply": "2023-02-18T06:16:25.594460Z"
    },
    "papermill": {
     "duration": 0.128751,
     "end_time": "2023-02-18T06:16:25.597906",
     "exception": false,
     "start_time": "2023-02-18T06:16:25.469155",
     "status": "completed"
    },
    "tags": []
   },
   "outputs": [
    {
     "data": {
      "text/plain": [
       "CODE_GENDER                 0\n",
       "FLAG_OWN_CAR                0\n",
       "FLAG_OWN_REALTY             0\n",
       "CNT_CHILDREN                0\n",
       "AMT_INCOME_TOTAL            0\n",
       "NAME_INCOME_TYPE            0\n",
       "NAME_EDUCATION_TYPE         0\n",
       "NAME_FAMILY_STATUS          0\n",
       "NAME_HOUSING_TYPE           0\n",
       "DAYS_BIRTH                  0\n",
       "DAYS_EMPLOYED               0\n",
       "FLAG_MOBIL                  0\n",
       "FLAG_WORK_PHONE             0\n",
       "FLAG_PHONE                  0\n",
       "FLAG_EMAIL                  0\n",
       "OCCUPATION_TYPE        113130\n",
       "CNT_FAM_MEMBERS             0\n",
       "MONTHS_BALANCE              0\n",
       "STATUS                      0\n",
       "dtype: int64"
      ]
     },
     "execution_count": 21,
     "metadata": {},
     "output_type": "execute_result"
    }
   ],
   "source": [
    "dataset.isna().sum()"
   ]
  },
  {
   "cell_type": "code",
   "execution_count": 22,
   "id": "b918c9f9",
   "metadata": {
    "execution": {
     "iopub.execute_input": "2023-02-18T06:16:25.623346Z",
     "iopub.status.busy": "2023-02-18T06:16:25.623055Z",
     "iopub.status.idle": "2023-02-18T06:16:25.735259Z",
     "shell.execute_reply": "2023-02-18T06:16:25.734259Z"
    },
    "papermill": {
     "duration": 0.127669,
     "end_time": "2023-02-18T06:16:25.737572",
     "exception": false,
     "start_time": "2023-02-18T06:16:25.609903",
     "status": "completed"
    },
    "tags": []
   },
   "outputs": [
    {
     "data": {
      "text/plain": [
       "113130"
      ]
     },
     "execution_count": 22,
     "metadata": {},
     "output_type": "execute_result"
    }
   ],
   "source": [
    "dataset.isna().sum().sum()"
   ]
  },
  {
   "cell_type": "markdown",
   "id": "3fd3e91d",
   "metadata": {
    "papermill": {
     "duration": 0.012632,
     "end_time": "2023-02-18T06:16:25.762287",
     "exception": false,
     "start_time": "2023-02-18T06:16:25.749655",
     "status": "completed"
    },
    "tags": []
   },
   "source": [
    "### Displaying Column \"OCCUPATION_TYPE\" with NULL Values"
   ]
  },
  {
   "cell_type": "code",
   "execution_count": 23,
   "id": "8973b495",
   "metadata": {
    "execution": {
     "iopub.execute_input": "2023-02-18T06:16:25.789534Z",
     "iopub.status.busy": "2023-02-18T06:16:25.788554Z",
     "iopub.status.idle": "2023-02-18T06:16:25.797178Z",
     "shell.execute_reply": "2023-02-18T06:16:25.796026Z"
    },
    "papermill": {
     "duration": 0.023965,
     "end_time": "2023-02-18T06:16:25.799192",
     "exception": false,
     "start_time": "2023-02-18T06:16:25.775227",
     "status": "completed"
    },
    "tags": []
   },
   "outputs": [
    {
     "data": {
      "text/plain": [
       "0              NaN\n",
       "1              NaN\n",
       "2              NaN\n",
       "3              NaN\n",
       "4              NaN\n",
       "            ...   \n",
       "777710    Laborers\n",
       "777711    Laborers\n",
       "777712    Laborers\n",
       "777713    Laborers\n",
       "777714    Laborers\n",
       "Name: OCCUPATION_TYPE, Length: 365322, dtype: object"
      ]
     },
     "execution_count": 23,
     "metadata": {},
     "output_type": "execute_result"
    }
   ],
   "source": [
    "dataset.OCCUPATION_TYPE"
   ]
  },
  {
   "cell_type": "code",
   "execution_count": 24,
   "id": "6d64b279",
   "metadata": {
    "execution": {
     "iopub.execute_input": "2023-02-18T06:16:25.825798Z",
     "iopub.status.busy": "2023-02-18T06:16:25.825466Z",
     "iopub.status.idle": "2023-02-18T06:16:25.848163Z",
     "shell.execute_reply": "2023-02-18T06:16:25.847046Z"
    },
    "papermill": {
     "duration": 0.038587,
     "end_time": "2023-02-18T06:16:25.850467",
     "exception": false,
     "start_time": "2023-02-18T06:16:25.811880",
     "status": "completed"
    },
    "tags": []
   },
   "outputs": [
    {
     "data": {
      "text/plain": [
       "Laborers                 62839\n",
       "Core staff               34175\n",
       "Sales staff              33786\n",
       "Managers                 31066\n",
       "Drivers                  23349\n",
       "High skill tech staff    14459\n",
       "Medicine staff           11937\n",
       "Accountants              11926\n",
       "Security staff            6851\n",
       "Cooking staff             6663\n",
       "Cleaning staff            5201\n",
       "Private service staff     2989\n",
       "Low-skill Laborers        2000\n",
       "Secretaries               1523\n",
       "Waiters/barmen staff      1272\n",
       "HR staff                   973\n",
       "IT staff                   617\n",
       "Realty agents              566\n",
       "Name: OCCUPATION_TYPE, dtype: int64"
      ]
     },
     "execution_count": 24,
     "metadata": {},
     "output_type": "execute_result"
    }
   ],
   "source": [
    "dataset.OCCUPATION_TYPE.value_counts()"
   ]
  },
  {
   "cell_type": "markdown",
   "id": "cc01ceb8",
   "metadata": {
    "papermill": {
     "duration": 0.013713,
     "end_time": "2023-02-18T06:16:25.877614",
     "exception": false,
     "start_time": "2023-02-18T06:16:25.863901",
     "status": "completed"
    },
    "tags": []
   },
   "source": [
    "### Replacing Null Values in 'OCCUPATION_TYPE' with Not Employed"
   ]
  },
  {
   "cell_type": "code",
   "execution_count": 25,
   "id": "fc6cb194",
   "metadata": {
    "execution": {
     "iopub.execute_input": "2023-02-18T06:16:25.904771Z",
     "iopub.status.busy": "2023-02-18T06:16:25.903316Z",
     "iopub.status.idle": "2023-02-18T06:16:25.924647Z",
     "shell.execute_reply": "2023-02-18T06:16:25.923815Z"
    },
    "papermill": {
     "duration": 0.036652,
     "end_time": "2023-02-18T06:16:25.926763",
     "exception": false,
     "start_time": "2023-02-18T06:16:25.890111",
     "status": "completed"
    },
    "tags": []
   },
   "outputs": [],
   "source": [
    "dataset.OCCUPATION_TYPE.replace(np.nan, 'Other', inplace = True)"
   ]
  },
  {
   "cell_type": "code",
   "execution_count": 26,
   "id": "abd51c6f",
   "metadata": {
    "execution": {
     "iopub.execute_input": "2023-02-18T06:16:25.953353Z",
     "iopub.status.busy": "2023-02-18T06:16:25.952609Z",
     "iopub.status.idle": "2023-02-18T06:16:25.974263Z",
     "shell.execute_reply": "2023-02-18T06:16:25.973350Z"
    },
    "papermill": {
     "duration": 0.03718,
     "end_time": "2023-02-18T06:16:25.976415",
     "exception": false,
     "start_time": "2023-02-18T06:16:25.939235",
     "status": "completed"
    },
    "tags": []
   },
   "outputs": [
    {
     "data": {
      "text/plain": [
       "Other                    113130\n",
       "Laborers                  62839\n",
       "Core staff                34175\n",
       "Sales staff               33786\n",
       "Managers                  31066\n",
       "Drivers                   23349\n",
       "High skill tech staff     14459\n",
       "Medicine staff            11937\n",
       "Accountants               11926\n",
       "Security staff             6851\n",
       "Cooking staff              6663\n",
       "Cleaning staff             5201\n",
       "Private service staff      2989\n",
       "Low-skill Laborers         2000\n",
       "Secretaries                1523\n",
       "Waiters/barmen staff       1272\n",
       "HR staff                    973\n",
       "IT staff                    617\n",
       "Realty agents               566\n",
       "Name: OCCUPATION_TYPE, dtype: int64"
      ]
     },
     "execution_count": 26,
     "metadata": {},
     "output_type": "execute_result"
    }
   ],
   "source": [
    "dataset.OCCUPATION_TYPE.value_counts()"
   ]
  },
  {
   "cell_type": "markdown",
   "id": "d4a8d6bd",
   "metadata": {
    "papermill": {
     "duration": 0.01205,
     "end_time": "2023-02-18T06:16:26.000773",
     "exception": false,
     "start_time": "2023-02-18T06:16:25.988723",
     "status": "completed"
    },
    "tags": []
   },
   "source": [
    "## Label Encoding"
   ]
  },
  {
   "cell_type": "code",
   "execution_count": 27,
   "id": "2566db38",
   "metadata": {
    "execution": {
     "iopub.execute_input": "2023-02-18T06:16:26.027434Z",
     "iopub.status.busy": "2023-02-18T06:16:26.027112Z",
     "iopub.status.idle": "2023-02-18T06:16:26.907992Z",
     "shell.execute_reply": "2023-02-18T06:16:26.906812Z"
    },
    "papermill": {
     "duration": 0.89736,
     "end_time": "2023-02-18T06:16:26.911294",
     "exception": false,
     "start_time": "2023-02-18T06:16:26.013934",
     "status": "completed"
    },
    "tags": []
   },
   "outputs": [],
   "source": [
    "from sklearn.preprocessing import LabelEncoder\n",
    "le = LabelEncoder()"
   ]
  },
  {
   "cell_type": "code",
   "execution_count": 28,
   "id": "3f05a5ab",
   "metadata": {
    "execution": {
     "iopub.execute_input": "2023-02-18T06:16:26.953040Z",
     "iopub.status.busy": "2023-02-18T06:16:26.952548Z",
     "iopub.status.idle": "2023-02-18T06:16:27.627800Z",
     "shell.execute_reply": "2023-02-18T06:16:27.626696Z"
    },
    "papermill": {
     "duration": 0.698525,
     "end_time": "2023-02-18T06:16:27.630520",
     "exception": false,
     "start_time": "2023-02-18T06:16:26.931995",
     "status": "completed"
    },
    "tags": []
   },
   "outputs": [],
   "source": [
    "for col in dataset.columns:\n",
    "    if dataset[col].dtype == 'object':\n",
    "        dataset[col] = le.fit_transform(dataset[col])"
   ]
  },
  {
   "cell_type": "code",
   "execution_count": 29,
   "id": "f806f608",
   "metadata": {
    "execution": {
     "iopub.execute_input": "2023-02-18T06:16:27.659751Z",
     "iopub.status.busy": "2023-02-18T06:16:27.659405Z",
     "iopub.status.idle": "2023-02-18T06:16:27.835930Z",
     "shell.execute_reply": "2023-02-18T06:16:27.834918Z"
    },
    "jupyter": {
     "outputs_hidden": false
    },
    "papermill": {
     "duration": 0.194123,
     "end_time": "2023-02-18T06:16:27.838564",
     "exception": false,
     "start_time": "2023-02-18T06:16:27.644441",
     "status": "completed"
    },
    "tags": []
   },
   "outputs": [],
   "source": [
    "dataset.drop_duplicates(inplace=True)"
   ]
  },
  {
   "cell_type": "markdown",
   "id": "8fb15e5c",
   "metadata": {
    "papermill": {
     "duration": 0.011961,
     "end_time": "2023-02-18T06:16:27.863567",
     "exception": false,
     "start_time": "2023-02-18T06:16:27.851606",
     "status": "completed"
    },
    "tags": []
   },
   "source": [
    "## Splitting the dataset"
   ]
  },
  {
   "cell_type": "code",
   "execution_count": 30,
   "id": "7e7a945a",
   "metadata": {
    "execution": {
     "iopub.execute_input": "2023-02-18T06:16:27.890626Z",
     "iopub.status.busy": "2023-02-18T06:16:27.889632Z",
     "iopub.status.idle": "2023-02-18T06:16:27.913455Z",
     "shell.execute_reply": "2023-02-18T06:16:27.912421Z"
    },
    "jupyter": {
     "outputs_hidden": false
    },
    "papermill": {
     "duration": 0.040108,
     "end_time": "2023-02-18T06:16:27.915960",
     "exception": false,
     "start_time": "2023-02-18T06:16:27.875852",
     "status": "completed"
    },
    "tags": []
   },
   "outputs": [],
   "source": [
    "X = dataset.iloc[:, :-1]\n",
    "y = dataset.iloc[:,-1]"
   ]
  },
  {
   "cell_type": "code",
   "execution_count": 31,
   "id": "c1da037d",
   "metadata": {
    "execution": {
     "iopub.execute_input": "2023-02-18T06:16:27.942313Z",
     "iopub.status.busy": "2023-02-18T06:16:27.941979Z",
     "iopub.status.idle": "2023-02-18T06:16:27.988893Z",
     "shell.execute_reply": "2023-02-18T06:16:27.988021Z"
    },
    "papermill": {
     "duration": 0.062465,
     "end_time": "2023-02-18T06:16:27.991222",
     "exception": false,
     "start_time": "2023-02-18T06:16:27.928757",
     "status": "completed"
    },
    "tags": []
   },
   "outputs": [],
   "source": [
    "from sklearn.model_selection import KFold,StratifiedKFold,train_test_split\n",
    "kfold = StratifiedKFold(n_splits=8, shuffle=True, random_state=0)"
   ]
  },
  {
   "cell_type": "code",
   "execution_count": 32,
   "id": "4ca20026",
   "metadata": {
    "execution": {
     "iopub.execute_input": "2023-02-18T06:16:28.017301Z",
     "iopub.status.busy": "2023-02-18T06:16:28.016880Z",
     "iopub.status.idle": "2023-02-18T06:16:28.095536Z",
     "shell.execute_reply": "2023-02-18T06:16:28.094494Z"
    },
    "jupyter": {
     "outputs_hidden": false
    },
    "papermill": {
     "duration": 0.094789,
     "end_time": "2023-02-18T06:16:28.098102",
     "exception": false,
     "start_time": "2023-02-18T06:16:28.003313",
     "status": "completed"
    },
    "tags": []
   },
   "outputs": [],
   "source": [
    "X_train, X_test, y_train, y_test = train_test_split(X, y, test_size=0.2, random_state=0)"
   ]
  },
  {
   "cell_type": "code",
   "execution_count": 33,
   "id": "0eafa436",
   "metadata": {
    "execution": {
     "iopub.execute_input": "2023-02-18T06:16:28.124927Z",
     "iopub.status.busy": "2023-02-18T06:16:28.124105Z",
     "iopub.status.idle": "2023-02-18T06:16:28.474548Z",
     "shell.execute_reply": "2023-02-18T06:16:28.473336Z"
    },
    "jupyter": {
     "outputs_hidden": false
    },
    "papermill": {
     "duration": 0.366945,
     "end_time": "2023-02-18T06:16:28.477888",
     "exception": false,
     "start_time": "2023-02-18T06:16:28.110943",
     "status": "completed"
    },
    "tags": []
   },
   "outputs": [],
   "source": [
    "for train_index, test_index in kfold.split(X,y):\n",
    "    # Split the data into train and test sets\n",
    "    X_train, X_test = X.iloc[train_index], X.iloc[test_index]\n",
    "    y_train, y_test = y.iloc[train_index], y.iloc[test_index]"
   ]
  },
  {
   "cell_type": "markdown",
   "id": "431568fd",
   "metadata": {
    "papermill": {
     "duration": 0.019097,
     "end_time": "2023-02-18T06:16:28.524048",
     "exception": false,
     "start_time": "2023-02-18T06:16:28.504951",
     "status": "completed"
    },
    "tags": []
   },
   "source": [
    "## Building Model"
   ]
  },
  {
   "cell_type": "code",
   "execution_count": 34,
   "id": "f44b9828",
   "metadata": {
    "execution": {
     "iopub.execute_input": "2023-02-18T06:16:28.550038Z",
     "iopub.status.busy": "2023-02-18T06:16:28.549683Z",
     "iopub.status.idle": "2023-02-18T06:16:30.442931Z",
     "shell.execute_reply": "2023-02-18T06:16:30.441871Z"
    },
    "papermill": {
     "duration": 1.909024,
     "end_time": "2023-02-18T06:16:30.445300",
     "exception": false,
     "start_time": "2023-02-18T06:16:28.536276",
     "status": "completed"
    },
    "tags": []
   },
   "outputs": [
    {
     "data": {
      "text/plain": [
       "DecisionTreeClassifier(class_weight='balanced', max_depth=48,\n",
       "                       min_samples_split=48, random_state=42)"
      ]
     },
     "execution_count": 34,
     "metadata": {},
     "output_type": "execute_result"
    }
   ],
   "source": [
    "from sklearn.tree import DecisionTreeClassifier\n",
    "classifier = DecisionTreeClassifier(class_weight='balanced',max_depth=48,splitter='best',random_state=42,min_samples_split=48)\n",
    "classifier.fit(X_train, y_train)"
   ]
  },
  {
   "cell_type": "code",
   "execution_count": 35,
   "id": "59d3c65a",
   "metadata": {
    "execution": {
     "iopub.execute_input": "2023-02-18T06:16:30.471894Z",
     "iopub.status.busy": "2023-02-18T06:16:30.471536Z",
     "iopub.status.idle": "2023-02-18T06:16:30.486969Z",
     "shell.execute_reply": "2023-02-18T06:16:30.485979Z"
    },
    "papermill": {
     "duration": 0.031126,
     "end_time": "2023-02-18T06:16:30.489214",
     "exception": false,
     "start_time": "2023-02-18T06:16:30.458088",
     "status": "completed"
    },
    "tags": []
   },
   "outputs": [],
   "source": [
    "y_pred = classifier.predict(X_test)"
   ]
  },
  {
   "cell_type": "code",
   "execution_count": 36,
   "id": "36c7b700",
   "metadata": {
    "execution": {
     "iopub.execute_input": "2023-02-18T06:16:30.515707Z",
     "iopub.status.busy": "2023-02-18T06:16:30.514745Z",
     "iopub.status.idle": "2023-02-18T06:16:30.574113Z",
     "shell.execute_reply": "2023-02-18T06:16:30.573100Z"
    },
    "papermill": {
     "duration": 0.075066,
     "end_time": "2023-02-18T06:16:30.576663",
     "exception": false,
     "start_time": "2023-02-18T06:16:30.501597",
     "status": "completed"
    },
    "tags": []
   },
   "outputs": [],
   "source": [
    "y_pred_train= classifier.predict(X_train)"
   ]
  },
  {
   "cell_type": "markdown",
   "id": "19df33e9",
   "metadata": {
    "papermill": {
     "duration": 0.011969,
     "end_time": "2023-02-18T06:16:30.601753",
     "exception": false,
     "start_time": "2023-02-18T06:16:30.589784",
     "status": "completed"
    },
    "tags": []
   },
   "source": [
    "## Calculating Scores"
   ]
  },
  {
   "cell_type": "markdown",
   "id": "9b28af03",
   "metadata": {
    "papermill": {
     "duration": 0.011999,
     "end_time": "2023-02-18T06:16:30.626256",
     "exception": false,
     "start_time": "2023-02-18T06:16:30.614257",
     "status": "completed"
    },
    "tags": []
   },
   "source": [
    "### Test Results"
   ]
  },
  {
   "cell_type": "code",
   "execution_count": 37,
   "id": "2789a02c",
   "metadata": {
    "execution": {
     "iopub.execute_input": "2023-02-18T06:16:30.652719Z",
     "iopub.status.busy": "2023-02-18T06:16:30.651737Z",
     "iopub.status.idle": "2023-02-18T06:16:30.698047Z",
     "shell.execute_reply": "2023-02-18T06:16:30.697001Z"
    },
    "papermill": {
     "duration": 0.06147,
     "end_time": "2023-02-18T06:16:30.700157",
     "exception": false,
     "start_time": "2023-02-18T06:16:30.638687",
     "status": "completed"
    },
    "tags": []
   },
   "outputs": [],
   "source": [
    "from sklearn.metrics import confusion_matrix, accuracy_score, precision_score, recall_score, f1_score\n",
    "acc = accuracy_score(y_test,y_pred)\n",
    "confusion_mat = confusion_matrix(y_test,y_pred)\n",
    "pre_score = precision_score(y_test,y_pred)\n",
    "recall = recall_score(y_test,y_pred)\n",
    "f1 = f1_score(y_test,y_pred)\n",
    "specificity_test = confusion_mat[0,0] / (confusion_mat[0,0] + confusion_mat[0,1])"
   ]
  },
  {
   "cell_type": "code",
   "execution_count": 38,
   "id": "6d60da4a",
   "metadata": {
    "execution": {
     "iopub.execute_input": "2023-02-18T06:16:30.727152Z",
     "iopub.status.busy": "2023-02-18T06:16:30.726182Z",
     "iopub.status.idle": "2023-02-18T06:16:30.732982Z",
     "shell.execute_reply": "2023-02-18T06:16:30.731531Z"
    },
    "jupyter": {
     "outputs_hidden": false
    },
    "papermill": {
     "duration": 0.022286,
     "end_time": "2023-02-18T06:16:30.735616",
     "exception": false,
     "start_time": "2023-02-18T06:16:30.713330",
     "status": "completed"
    },
    "tags": []
   },
   "outputs": [
    {
     "name": "stdout",
     "output_type": "stream",
     "text": [
      "Accuracy Score = 0.8631336910106209\n",
      " Confusion Matrix = [[30484  5901]\n",
      " [  349  8931]]\n",
      " Precision Score = 0.6021440129449838\n",
      " Recall Score = 0.9623922413793103\n",
      " F1 Score = 0.7407929661579297\n",
      " Specificity Test = 0.8378177820530438\n"
     ]
    }
   ],
   "source": [
    "print(f'Accuracy Score = {acc}\\n Confusion Matrix = {confusion_mat}\\n Precision Score = {pre_score}\\n Recall Score = {recall}\\n F1 Score = {f1}\\n Specificity Test = {specificity_test}')"
   ]
  },
  {
   "cell_type": "markdown",
   "id": "10dc8400",
   "metadata": {
    "papermill": {
     "duration": 0.011684,
     "end_time": "2023-02-18T06:16:30.760225",
     "exception": false,
     "start_time": "2023-02-18T06:16:30.748541",
     "status": "completed"
    },
    "tags": []
   },
   "source": [
    "### Train Results"
   ]
  },
  {
   "cell_type": "code",
   "execution_count": 39,
   "id": "e99f73e3",
   "metadata": {
    "execution": {
     "iopub.execute_input": "2023-02-18T06:16:30.786341Z",
     "iopub.status.busy": "2023-02-18T06:16:30.786060Z",
     "iopub.status.idle": "2023-02-18T06:16:31.036038Z",
     "shell.execute_reply": "2023-02-18T06:16:31.034950Z"
    },
    "jupyter": {
     "outputs_hidden": false
    },
    "papermill": {
     "duration": 0.265984,
     "end_time": "2023-02-18T06:16:31.038842",
     "exception": false,
     "start_time": "2023-02-18T06:16:30.772858",
     "status": "completed"
    },
    "tags": []
   },
   "outputs": [],
   "source": [
    "acc_train = accuracy_score(y_train,y_pred_train)\n",
    "confusion_mat_train = confusion_matrix(y_train,y_pred_train)\n",
    "pre_score_train = precision_score(y_train,y_pred_train)\n",
    "recall_train = recall_score(y_train,y_pred_train)\n",
    "f1_train = f1_score(y_train,y_pred_train)\n",
    "specificity_train = confusion_mat_train[0,0] / (confusion_mat_train[0,0] + confusion_mat_train[0,1])"
   ]
  },
  {
   "cell_type": "code",
   "execution_count": 40,
   "id": "683294da",
   "metadata": {
    "execution": {
     "iopub.execute_input": "2023-02-18T06:16:31.066943Z",
     "iopub.status.busy": "2023-02-18T06:16:31.065987Z",
     "iopub.status.idle": "2023-02-18T06:16:31.073688Z",
     "shell.execute_reply": "2023-02-18T06:16:31.072195Z"
    },
    "jupyter": {
     "outputs_hidden": false
    },
    "papermill": {
     "duration": 0.023929,
     "end_time": "2023-02-18T06:16:31.076471",
     "exception": false,
     "start_time": "2023-02-18T06:16:31.052542",
     "status": "completed"
    },
    "tags": []
   },
   "outputs": [
    {
     "name": "stdout",
     "output_type": "stream",
     "text": [
      "Accuracy Score = 0.871684336648345\n",
      " Confusion Matrix = [[214176  40518]\n",
      " [   499  64464]]\n",
      " Precision Score = 0.6140481225352917\n",
      " Recall Score = 0.9923187044933269\n",
      " F1 Score = 0.7586454441142721\n",
      " Specificity Test = 0.8409149803293364\n"
     ]
    }
   ],
   "source": [
    "print(f'Accuracy Score = {acc_train}\\n Confusion Matrix = {confusion_mat_train}\\n Precision Score = {pre_score_train}\\n Recall Score = {recall_train}\\n F1 Score = {f1_train}\\n Specificity Test = {specificity_train}')"
   ]
  }
 ],
 "metadata": {
  "kernelspec": {
   "display_name": "Python 3 (ipykernel)",
   "language": "python",
   "name": "python3"
  },
  "language_info": {
   "codemirror_mode": {
    "name": "ipython",
    "version": 3
   },
   "file_extension": ".py",
   "mimetype": "text/x-python",
   "name": "python",
   "nbconvert_exporter": "python",
   "pygments_lexer": "ipython3",
   "version": "3.9.12"
  },
  "papermill": {
   "default_parameters": {},
   "duration": 302.136925,
   "end_time": "2023-02-18T06:16:31.609611",
   "environment_variables": {},
   "exception": null,
   "input_path": "__notebook__.ipynb",
   "output_path": "__notebook__.ipynb",
   "parameters": {},
   "start_time": "2023-02-18T06:11:29.472686",
   "version": "2.3.4"
  }
 },
 "nbformat": 4,
 "nbformat_minor": 5
}
